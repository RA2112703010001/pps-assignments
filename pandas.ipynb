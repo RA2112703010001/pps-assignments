{
  "nbformat": 4,
  "nbformat_minor": 0,
  "metadata": {
    "colab": {
      "name": "pandas",
      "provenance": [],
      "authorship_tag": "ABX9TyOvL9KFvvVFiAp2HCWgyhOU",
      "include_colab_link": true
    },
    "kernelspec": {
      "name": "python3",
      "display_name": "Python 3"
    },
    "language_info": {
      "name": "python"
    }
  },
  "cells": [
    {
      "cell_type": "markdown",
      "metadata": {
        "id": "view-in-github",
        "colab_type": "text"
      },
      "source": [
        "<a href=\"https://colab.research.google.com/github/RA2112703010001/pps-assignments/blob/main/pandas.ipynb\" target=\"_parent\"><img src=\"https://colab.research.google.com/assets/colab-badge.svg\" alt=\"Open In Colab\"/></a>"
      ]
    },
    {
      "cell_type": "code",
      "execution_count": null,
      "metadata": {
        "id": "rVrDRxdRo9Qi"
      },
      "outputs": [],
      "source": [
        "# Import pandas package\n",
        "import pandas as pd\n",
        "\n",
        "# Define a dictionary containing employee data\n",
        "data = {'Name':['Jai', 'Princi', 'Gaurav', 'Anuj'],\n",
        "\t\t'Age':[27, 24, 22, 32],\n",
        "\t\t'Address':['Delhi', 'Kanpur', 'Allahabad', 'Kannauj'],\n",
        "\t\t'Qualification':['Msc', 'MA', 'MCA', 'Phd']}\n",
        "\n",
        "# Convert the dictionary into DataFrame \n",
        "df = pd.DataFrame(data)\n",
        "\n",
        "# select two columns\n",
        "print(df[['Name', 'Qualification']])\n"
      ]
    }
  ]
}